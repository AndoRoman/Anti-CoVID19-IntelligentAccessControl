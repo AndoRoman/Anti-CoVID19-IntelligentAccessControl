{
  "nbformat": 4,
  "nbformat_minor": 0,
  "metadata": {
    "colab": {
      "name": "GeneradorModelo.ipynb",
      "provenance": [],
      "toc_visible": true
    },
    "kernelspec": {
      "display_name": "Python 3",
      "language": "python",
      "name": "python3"
    },
    "language_info": {
      "codemirror_mode": {
        "name": "ipython",
        "version": 3
      },
      "file_extension": ".py",
      "mimetype": "text/x-python",
      "name": "python",
      "nbconvert_exporter": "python",
      "pygments_lexer": "ipython3",
      "version": "3.7.6"
    }
  },
  "cells": [
    {
      "cell_type": "markdown",
      "metadata": {
        "colab_type": "text",
        "id": "uiDwd861nrqt"
      },
      "source": [
        "# Instalaciones e importaciones de librerias y paquetes "
      ]
    },
    {
      "cell_type": "code",
      "metadata": {
        "colab_type": "code",
        "id": "uwpvZ05Ck3d4",
        "colab": {}
      },
      "source": [
        "!pip install opencv-python\n",
        "!pip install matplotlib\n",
        "!pip install tensorflow==2.1.0\n",
        "!pip install pillow\n"
      ],
      "execution_count": null,
      "outputs": []
    },
    {
      "cell_type": "code",
      "metadata": {
        "colab_type": "code",
        "id": "2s7OwhamlZCF",
        "colab": {}
      },
      "source": [
        "import os\n",
        "import tensorflow as tf\n",
        "import numpy as np\n",
        "import cv2\n",
        "import matplotlib.pyplot as plt\n",
        "from tensorflow.keras.optimizers import Adam #el optimizador \n",
        "from tensorflow.keras.preprocessing.image import ImageDataGenerator # para el pre-procesamiento"
      ],
      "execution_count": null,
      "outputs": []
    },
    {
      "cell_type": "markdown",
      "metadata": {
        "colab_type": "text",
        "id": "4h-1OIHJnfqn"
      },
      "source": [
        "# Cargando el dataset"
      ]
    },
    {
      "cell_type": "markdown",
      "metadata": {
        "colab_type": "text",
        "id": "sfaG62eJzIt1"
      },
      "source": [
        "En este paso se cargan las imagenes que serán usadas por el modelo. Ademas, se puede vizualizar el total de imagenes por clase. "
      ]
    },
    {
      "cell_type": "code",
      "metadata": {
        "colab_type": "code",
        "id": "mJArAngXnhPB",
        "colab": {}
      },
      "source": [
        "train_dir ='dataset'\n",
        "val_dir = 'datasetEntramiento'\n",
        "train_mask_dir = 'dataset/with_mask' #directorio con las imagenes que NO tienen mascara\n",
        "train_no_mask_dir = 'dataset/without_mask' #directorio con las imagenes que SI tienen mascara"
      ],
      "execution_count": null,
      "outputs": []
    },
    {
      "cell_type": "code",
      "metadata": {
        "colab_type": "code",
        "id": "14BiJC2Eut5R",
        "colab": {}
      },
      "source": [
        "train_mask_frames = os.listdir(train_mask_dir)\n",
        "train_no_mask_frames = os.listdir(train_no_mask_dir)\n",
        "\n",
        "#Imprimiendo las cantidades de imagenes con su clasificación \n",
        "\n",
        "print('Cantidad total de imagenes con mascara = ', len(os.listdir(train_mask_dir)))\n",
        "print('Cantidad total de imagenes sin mascara = ', len(os.listdir(train_no_mask_dir)))"
      ],
      "execution_count": null,
      "outputs": []
    },
    {
      "cell_type": "code",
      "metadata": {
        "id": "MdvtAz1qONIa",
        "colab_type": "code",
        "colab": {}
      },
      "source": [
        "#Definicion de parametos\n",
        "\n",
        "longitud, altura = 150, 150 #tamaño, en píxeles el que van hacer procesadas las imagenes\n",
        "\n",
        "epocas  = 10 #cantidad de veces que se va iterar el set de datos\n",
        "batch_size = 10 #cant de imagenes que serán procesadas en cada unos de los pasos.\n",
        "\n",
        "cant_Filtros_Conv1 = 16 # numero de filtros que se van aplicar en la convolucion 1, digase, que luego de la esta convolucion la imagen va a tener una profundida de 16\n",
        "cant_Filtros_Conv2 = 32 # numero de filtros que se van aplicar en la convolucion 2\n",
        "cant_Filtros_Conv3 = 64 # numero de filtros que se van aplicar en la convolucion 3\n",
        "cant_Filtros_Conv4 = 128 # numero de filtros que se van aplicar en la convolucion 4\n",
        "tamano_filtro = (3,3) # Es el tamaño del filtro que se usaran en las convoluciones\n",
        "tamano_filtro_MaxPooling = (2, 2) # Es el tamaño del filtro que se usaran en los MaxPooling2D\n",
        "cant_clases = 2 #cantidad de clase: Con mascara & Sin mascara\n",
        "#para compilar el modelo\n",
        "lr = 0.0004 # Es learning rate, digase que tan grande seran los ajustes de la CNN para acercarse a una sol"
      ],
      "execution_count": null,
      "outputs": []
    },
    {
      "cell_type": "markdown",
      "metadata": {
        "colab_type": "text",
        "id": "-sOIpFUwniPA"
      },
      "source": [
        "# Creación del Modelo CNN"
      ]
    },
    {
      "cell_type": "markdown",
      "metadata": {
        "colab_type": "text",
        "id": "3v3HHq5mmG6N"
      },
      "source": [
        "Se construye el modelo CNN secuencial, el cual hace la abstracion de caracteristicas y la clasificaciones de las imagenes. A treves de diversas capas, tales como: Conv2D, MaxPooling2D, Flatten, Dropout y Dense\n",
        "\n",
        "\n",
        "* Conv2D: Añade una capa convolucional \n",
        "* MaxPooling2D: Reduce el tamaño de  la imagen. \n",
        "* Flatten: Permite convertir los elementos de la matriz de imagenes de entrada en un array plano. En su esencia, lo que hace es acoplar.\n",
        "* Dense: Permite crear y añadir capas ocultas de la red neuronal\n",
        "* Dropout: Permite desconectar un porcentaje de las neuronas en cada epoca del entrenamiento. Se hace con el objectivo de evitar sobre ajustar\n",
        "<p> Referencia -> https://www.tensorflow.org/api_docs/python/tf/keras/Sequential\n",
        "    "
      ]
    },
    {
      "cell_type": "code",
      "metadata": {
        "colab_type": "code",
        "id": "D2GUE1YomG6Q",
        "colab": {}
      },
      "source": [
        "#nueva prueba\n",
        "model = tf.keras.models.Sequential([\n",
        "    \n",
        "    tf.keras.layers.Conv2D(cant_Filtros_Conv1, tamano_filtro, activation='relu', input_shape=(altura, longitud, 3)), \n",
        "    tf.keras.layers.MaxPooling2D(pool_size=tamano_filtro_MaxPooling), \n",
        "    \n",
        "    tf.keras.layers.Conv2D(cant_Filtros_Conv2, tamano_filtro, activation='relu'),\n",
        "    tf.keras.layers.MaxPooling2D(pool_size=tamano_filtro_MaxPooling),\n",
        "    \n",
        "    tf.keras.layers.Conv2D(cant_Filtros_Conv3, tamano_filtro, activation='relu'),\n",
        "    tf.keras.layers.MaxPooling2D(pool_size=tamano_filtro_MaxPooling),\n",
        "    \n",
        "    \n",
        "    tf.keras.layers.Flatten(),\n",
        "    #tf.keras.layers.Dropout(0.3),\n",
        "    tf.keras.layers.Dense(512, activation='relu'), \n",
        "    \n",
        "    tf.keras.layers.Dense(cant_clases, activation='softmax')\n",
        "    #tf.keras.layers.Dense(1, activation='sigmoid')\n",
        "])\n",
        "# softmax lo que da el % de que tenga mascara o no, %80 sin mascara, %20 con mascara "
      ],
      "execution_count": null,
      "outputs": []
    },
    {
      "cell_type": "markdown",
      "metadata": {
        "colab_type": "text",
        "id": "s5fX2O9DAdYl"
      },
      "source": [
        "# Compilando Modelo\n",
        "En esta parte lo que se realiza es la compilacion del modelo, especificando las funciones de:\n",
        "\n",
        "\n",
        "*   Optimización: Se usa **Adam**.\n",
        "*   Coste o pérdida. \n",
        "*   Métricas.\n",
        "\n"
      ]
    },
    {
      "cell_type": "code",
      "metadata": {
        "colab_type": "code",
        "id": "N_WjtWIBnbRb",
        "colab": {},
        "outputId": "72af9aee-ec5a-4cd8-8713-9ec7ede9ca40"
      },
      "source": [
        "#Compilando el modelo. \n",
        "model.compile(\n",
        "    optimizer=Adam(lr=lr),\n",
        "    loss='binary_crossentropy',\n",
        "    metrics = ['accuracy'])\n",
        "\n",
        "model.summary() #Observando un resumen"
      ],
      "execution_count": null,
      "outputs": [
        {
          "output_type": "stream",
          "text": [
            "Model: \"sequential_2\"\n",
            "_________________________________________________________________\n",
            "Layer (type)                 Output Shape              Param #   \n",
            "=================================================================\n",
            "conv2d_6 (Conv2D)            (None, 148, 148, 16)      448       \n",
            "_________________________________________________________________\n",
            "max_pooling2d_6 (MaxPooling2 (None, 74, 74, 16)        0         \n",
            "_________________________________________________________________\n",
            "conv2d_7 (Conv2D)            (None, 72, 72, 32)        4640      \n",
            "_________________________________________________________________\n",
            "max_pooling2d_7 (MaxPooling2 (None, 36, 36, 32)        0         \n",
            "_________________________________________________________________\n",
            "conv2d_8 (Conv2D)            (None, 34, 34, 64)        18496     \n",
            "_________________________________________________________________\n",
            "max_pooling2d_8 (MaxPooling2 (None, 17, 17, 64)        0         \n",
            "_________________________________________________________________\n",
            "flatten_2 (Flatten)          (None, 18496)             0         \n",
            "_________________________________________________________________\n",
            "dense_4 (Dense)              (None, 512)               9470464   \n",
            "_________________________________________________________________\n",
            "dense_5 (Dense)              (None, 2)                 1026      \n",
            "=================================================================\n",
            "Total params: 9,495,074\n",
            "Trainable params: 9,495,074\n",
            "Non-trainable params: 0\n",
            "_________________________________________________________________\n"
          ],
          "name": "stdout"
        }
      ]
    },
    {
      "cell_type": "markdown",
      "metadata": {
        "colab_type": "text",
        "id": "fmkaDpLi7MC4"
      },
      "source": [
        "# Realizando pre-entrenamiento del modelo\n",
        "Se realizan de los ajuste las imagenes."
      ]
    },
    {
      "cell_type": "code",
      "metadata": {
        "colab_type": "code",
        "id": "V2JVJEXq1-3p",
        "scrolled": false,
        "colab": {}
      },
      "source": [
        "# libreria que se necesitan ->\n",
        "# from tensorflow.keras.preprocessing.image import ImageDataGenerator\n",
        "# from tensorflow.keras.callbacks import TensorBoard, ModelCheckpoint\n",
        "\n",
        "train_datagen = ImageDataGenerator(\n",
        "    rescale=1./255,\n",
        "    shear_range=0.2,\n",
        "    zoom_range=0.2,\n",
        "    horizontal_flip=True,\n",
        "    validation_split=0.2) #set validation split\n",
        "\n",
        "train_generator = train_datagen.flow_from_directory(\n",
        "    train_dir,\n",
        "    #val_dir,\n",
        "    target_size = (altura, longitud),\n",
        "    batch_size = batch_size,\n",
        "    #class_mode = 'binary',\n",
        "    subset = 'training') #set as training data\n",
        "\n",
        "validation_generator = train_datagen.flow_from_directory( \n",
        "    train_dir,\n",
        "   # val_dir,\n",
        "    target_size = (altura, longitud),\n",
        "    batch_size = batch_size,\n",
        "   # class_mode = 'binary',\n",
        "    subset = 'validation') #set as validation data\n",
        "    \n"
      ],
      "execution_count": null,
      "outputs": []
    },
    {
      "cell_type": "markdown",
      "metadata": {
        "colab_type": "text",
        "id": "R7XPXp3W3-We"
      },
      "source": [
        "# Realizando entrenamientodo del modelo \n",
        "Este bloque es lo mas esencial."
      ]
    },
    {
      "cell_type": "code",
      "metadata": {
        "colab_type": "code",
        "id": "YTG_-McW3hlr",
        "scrolled": true,
        "colab": {}
      },
      "source": [
        "\n",
        "history = model.fit_generator(\n",
        "    train_generator,\n",
        "    steps_per_epoch = train_generator.samples // batch_size,\n",
        "    validation_data = validation_generator,\n",
        "    validation_steps = validation_generator.samples // batch_size,\n",
        "    epochs = epocas)"
      ],
      "execution_count": null,
      "outputs": []
    },
    {
      "cell_type": "markdown",
      "metadata": {
        "colab_type": "text",
        "id": "N7oZuucuCAoB"
      },
      "source": [
        "# Graficas de cambios de la red"
      ]
    },
    {
      "cell_type": "code",
      "metadata": {
        "id": "oDwhiz0oONJh",
        "colab_type": "code",
        "colab": {},
        "outputId": "d8e7ce93-e409-4362-bd25-c1432e09758c"
      },
      "source": [
        "plt.figure(0)  \n",
        "plt.plot(history.history['accuracy'],'r')  \n",
        "plt.plot(history.history['val_accuracy'],'g')  \n",
        "plt.xticks(np.arange(0, epocas+1, 2.0))  \n",
        "plt.rcParams['figure.figsize'] = (8, 6)  \n",
        "plt.xlabel(\"Cant Epocas\")  \n",
        "plt.ylabel(\"Accuracy\")  \n",
        "plt.title(\"Training Accuracy vs Validation Accuracy\")  \n",
        "plt.legend(['train','validation'])\n",
        "\n",
        "plt.figure(1)  \n",
        "plt.plot(history.history['loss'],'r')  \n",
        "plt.plot(history.history['val_loss'],'g')  \n",
        "plt.xticks(np.arange(0, epocas+1, 2.0))  \n",
        "plt.rcParams['figure.figsize'] = (8, 6)  \n",
        "plt.xlabel(\"Cant Epocas\")  \n",
        "plt.ylabel(\"Loss\")  \n",
        "plt.title(\"Training Loss vs Validation Loss\")  \n",
        "plt.legend(['train','validation'])\n",
        "\n",
        "plt.show()  "
      ],
      "execution_count": null,
      "outputs": [
        {
          "output_type": "display_data",
          "data": {
            "image/png": "[encoded data removed]",
            "text/plain": [
              "<Figure size 576x432 with 1 Axes>"
            ]
          },
          "metadata": {
            "tags": [],
            "needs_background": "light"
          }
        },
        {
          "output_type": "display_data",
          "data": {
            "image/png": "[encoded data removed]",
            "text/plain": [
              "<Figure size 576x432 with 1 Axes>"
            ]
          },
          "metadata": {
            "tags": [],
            "needs_background": "light"
          }
        }
      ]
    },
    {
      "cell_type": "markdown",
      "metadata": {
        "colab_type": "text",
        "id": "9Cd1PAZREAxR"
      },
      "source": [
        "# Persistiendo modelo a disco. \n",
        "Esto se hace con el conversor de TFLite\n",
        "TFLite tiene dos componentes:\n",
        "\n",
        "1.   **El interprete**, para hacer la inferencia\n",
        "2.   **El conversor**.\n",
        "\n"
      ]
    },
    {
      "cell_type": "code",
      "metadata": {
        "colab_type": "code",
        "id": "airkoxU9Ea9I",
        "colab": {}
      },
      "source": [
        "# con TFlite\n",
        "converter = tf.lite.TFLiteConverter.from_keras_model(model)\n",
        "tflite_model = converter.convert()\n",
        "open(\"P8_clasificador.tflite\",\"wb\").write(tflite_model)\n",
        "# con h5\n",
        "model.save('P8__modeloClasificador.h5')\n",
        "model.save_weights('P8_pesos.h5')\n"
      ],
      "execution_count": null,
      "outputs": []
    },
    {
      "cell_type": "markdown",
      "metadata": {
        "colab_type": "text",
        "id": "xj6EKpKFH4h1"
      },
      "source": [
        "# Prueba de dectecion"
      ]
    },
    {
      "cell_type": "markdown",
      "metadata": {
        "colab_type": "text",
        "id": "sLKGUeEfIHkX"
      },
      "source": [
        "Importando .xml para detecion de rostro"
      ]
    },
    {
      "cell_type": "code",
      "metadata": {
        "colab_type": "code",
        "id": "HQmCXvJQH-cH",
        "colab": {}
      },
      "source": [
        "face_clsfr=cv2.CascadeClassifier('haarcascade_frontalface_default.xml')"
      ],
      "execution_count": null,
      "outputs": []
    },
    {
      "cell_type": "markdown",
      "metadata": {
        "colab_type": "text",
        "id": "NM66fJ9VIUVP"
      },
      "source": [
        ""
      ]
    },
    {
      "cell_type": "markdown",
      "metadata": {
        "id": "HHJ4W0rtONJ6",
        "colab_type": "text"
      },
      "source": [
        "Capturando video en tiempo real. Pero, el modelo con el cual se trabaja el mismo entrenado. Se debe investigar para que el modelo que se le pase sea que se persistio en disco."
      ]
    },
    {
      "cell_type": "code",
      "metadata": {
        "id": "KXeinGmCONJ6",
        "colab_type": "code",
        "colab": {}
      },
      "source": [
        "from tensorflow.keras.models import load_model\n",
        "\n",
        "labels_dict={0:'Sin Mascara',1:'Con Mascara'}\n",
        "color_dict={0:(0,0,255),1:(0,255,0)}\n",
        "\n",
        "# realizando lectura  del modelo serealizado\n",
        "modelo = 'P5__modeloClasificador.h5' # bueno 'modeloClasificador.h5'\n",
        "pesos = 'P5_pesos.h5' # 'pesos.h5'\n",
        "\n",
        "modeloCargado = load_model(modelo)\n",
        "modeloCargado.load_weights(pesos)\n",
        "\n",
        "size = 4\n",
        "webcam = cv2.VideoCapture(0) #Use camera 0\n",
        "\n",
        "# We load the xml file\n",
        "classifier = cv2.CascadeClassifier('haarcascade_frontalface_default.xml')\n",
        "\n",
        "while True:\n",
        "    (rval, im) = webcam.read()\n",
        "    im=cv2.flip(im,1,1) #Flip to act as a mirror\n",
        "\n",
        "    # Resize the image to speed up detection\n",
        "    mini = cv2.resize(im, (im.shape[1] // size, im.shape[0] // size))\n",
        "\n",
        "    # detect MultiScale / faces \n",
        "    faces = classifier.detectMultiScale(mini)\n",
        "\n",
        "    # Draw rectangles around each face\n",
        "    for f in faces:\n",
        "        print('rostro dectetado')\n",
        "        (x, y, w, h) = [v * size for v in f] #Scale the shapesize backup\n",
        "        #Save just the rectangle faces in SubRecFaces\n",
        "        face_img = im[y:y+h, x:x+w]\n",
        "        resized=cv2.resize(face_img,(150,150))\n",
        "        normalized=resized/255.0\n",
        "        reshaped=np.reshape(normalized,(1,150,150,3))\n",
        "        reshaped = np.vstack([reshaped])\n",
        "        result=modeloCargado.predict(reshaped)\n",
        "        #result = P6__modeloClasificador.h5\n",
        "        #result=model.predict(reshaped)\n",
        "        \n",
        "        valor = result[0]\n",
        "        #print(result)\n",
        "        #print('el valaor')\n",
        "        v = 0\n",
        "        if(valor[1]*100>85):\n",
        "            v = 1\n",
        "        else:\n",
        "            v = 0\n",
        "        print('')\n",
        "        print('Sin mascara =')\n",
        "        print(valor[0]*100)\n",
        "        print('CON mascara =')\n",
        "        print(valor[1]*100)\n",
        "        # label = v;\n",
        "        print('')\n",
        "        print('El valor es')\n",
        "        #print(label)\n",
        "        label=np.argmax(result,axis=1)[0]#cambie result por v\n",
        "        cv2.rectangle(im,(x,y),(x+w,y+h),color_dict[label],2)\n",
        "        cv2.rectangle(im,(x,y-40),(x+w,y),color_dict[label],-1)\n",
        "        cv2.putText(im, labels_dict[label], (x, y-10),cv2.FONT_HERSHEY_SIMPLEX,0.8,(255,255,255),2)\n",
        "        \n",
        "        \n",
        "    # Show the image\n",
        "    cv2.imshow('LIVE',   im)\n",
        "    key = cv2.waitKey(10)\n",
        "    # if Esc key is press then break out of the loop \n",
        "    if key == 27: #The Esc key\n",
        "        break\n",
        "# Stop video\n",
        "webcam.release()\n",
        "\n",
        "# Close all started windows\n",
        "cv2.destroyAllWindows()"
      ],
      "execution_count": null,
      "outputs": []
    },
    {
      "cell_type": "code",
      "metadata": {
        "id": "pkW3eYgoONKA",
        "colab_type": "code",
        "colab": {}
      },
      "source": [
        "#Con tomas de imagenes \n",
        "import cv2\n",
        "import numpy as np\n",
        "import matplotlib.pyplot as plt\n",
        "from tensorflow.keras.preprocessing import image\n",
        "from PIL import Image\n",
        "vc = cv2.VideoCapture(0) \n",
        "plt.ion()\n",
        "if vc.isOpened(): \n",
        "    is_capturing, frame = vc.read()\n",
        "    frame = cv2.cvtColor(frame, cv2.COLOR_BGR2RGB)    \n",
        "    webcam_preview = plt.imshow(frame)    \n",
        "else:\n",
        "    is_capturing = False\n",
        "\n",
        "while is_capturing:\n",
        "    try:    \n",
        "        is_capturing, frame = vc.read()\n",
        "        frame = cv2.cvtColor(frame, cv2.COLOR_BGR2RGB)    \n",
        "        frame_res = cv2.resize(frame, dsize=(150, 150), interpolation=cv2.INTER_CUBIC) \n",
        "        x=image.img_to_array(frame_res)\n",
        "        x=np.expand_dims(x, axis=0)\n",
        "        images = np.vstack([x])\n",
        "        classes = model.predict(images, batch_size=10)\n",
        "        if classes[0]>0:\n",
        "            print(\"No Lleva mascara\")\n",
        "        else:\n",
        "            print(\"Si lleva mascara\")\n",
        "        webcam_preview = plt.imshow(frame)\n",
        "        try:    \n",
        "            plt.pause(1)\n",
        "        except Exception:\n",
        "            pass\n",
        "    except KeyboardInterrupt:\n",
        "        vc.release()"
      ],
      "execution_count": null,
      "outputs": []
    }
  ]
}